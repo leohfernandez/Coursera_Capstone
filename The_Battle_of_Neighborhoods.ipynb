{
 "cells": [
  {
   "cell_type": "markdown",
   "metadata": {},
   "source": [
    "# The Battle of the Neighborhoods\n",
    "_Capstone Project for IBM Data Science Professional Certificate_"
   ]
  },
  {
   "cell_type": "markdown",
   "metadata": {},
   "source": [
    "## Introduction\n",
    "_Clearly define a problem or an idea of your choice, where you would need to leverage the Foursquare location data to solve or execute. Remember that data science problems always target an audience and are meant to help a group of stakeholders solve a problem, so make sure that you explicitly describe your audience and why they would care about your problem._\n",
    "\n",
    "_where you discuss the business problem and who would be interested in this project._\n",
    "\n",
    "---\n",
    "Your moving to Buenos Aires\n",
    "Compare the area surrounding your current address to the different neighborhoods of Buenos Aires Metropolitan area (City of BA and Greater BA) and classify them according to the top venues. Pick the top 5 lowest crime rate neighborhoods that are similar to your current address and predict housing rent based on housing requirements requirements."
   ]
  },
  {
   "cell_type": "markdown",
   "metadata": {},
   "source": [
    "## Data\n",
    "Datasources to be explored in the project\n",
    "\n",
    "---\n",
    "Ministerio de Seguridad\n",
    "Estadísticas Criminales de la República Argentina\n",
    "https://estadisticascriminales.minseg.gob.ar/#\n",
    "https://estadisticascriminales.minseg.gob.ar/datos/snic-departamentos.csv\n",
    "\n"
   ]
  },
  {
   "cell_type": "markdown",
   "metadata": {},
   "source": [
    "### Import libraries"
   ]
  },
  {
   "cell_type": "code",
   "execution_count": null,
   "metadata": {},
   "outputs": [],
   "source": [
    "# General\n",
    "import numpy as np # library for vector data handling\n",
    "import pandas as pd # library for matrix data handling\n",
    "\n",
    "# Scraping\n",
    "import requests # library to handle requests\n",
    "from bs4 import BeautifulSoup # library for web scrapping  \n",
    "from pandas.io.json import json_normalize # tranform json file into a pandas dataframe\n",
    "# import json # library to handle JSON files\n",
    "# from time import sleep\n",
    "\n",
    "# Analysis\n",
    "from sklearn.cluster import KMeans\n",
    "\n",
    "# Geolocation\n",
    "#!conda install -c conda-forge geocoder --yes\n",
    "import geocoder\n",
    "#!conda install -c conda-forge geopy --yes \n",
    "from geopy.geocoders import Nominatim # module to convert an address into latitude and longitude values\n",
    "\n",
    "# Charts and plotting\n",
    "import matplotlib.cm as cm\n",
    "import matplotlib.colors as colors\n",
    "import matplotlib.pyplot as plt\n",
    "import seaborn as sns\n",
    "#!conda install -c conda-forge folium=0.5.0 --yes\n",
    "import folium # maps library"
   ]
  },
  {
   "cell_type": "markdown",
   "metadata": {},
   "source": [
    "### Housing data"
   ]
  },
  {
   "cell_type": "code",
   "execution_count": null,
   "metadata": {},
   "outputs": [],
   "source": []
  },
  {
   "cell_type": "markdown",
   "metadata": {},
   "source": [
    "### Crime data"
   ]
  },
  {
   "cell_type": "code",
   "execution_count": null,
   "metadata": {},
   "outputs": [],
   "source": []
  },
  {
   "cell_type": "markdown",
   "metadata": {},
   "source": [
    "### Borough boundaries"
   ]
  },
  {
   "cell_type": "code",
   "execution_count": null,
   "metadata": {},
   "outputs": [],
   "source": []
  },
  {
   "cell_type": "markdown",
   "metadata": {},
   "source": [
    "### Population data"
   ]
  },
  {
   "cell_type": "code",
   "execution_count": null,
   "metadata": {},
   "outputs": [],
   "source": []
  },
  {
   "cell_type": "markdown",
   "metadata": {},
   "source": [
    "## Methodology"
   ]
  },
  {
   "cell_type": "markdown",
   "metadata": {},
   "source": [
    "## Analysis"
   ]
  },
  {
   "cell_type": "code",
   "execution_count": null,
   "metadata": {},
   "outputs": [],
   "source": []
  },
  {
   "cell_type": "markdown",
   "metadata": {},
   "source": [
    "## Results and Discussion"
   ]
  },
  {
   "cell_type": "code",
   "execution_count": null,
   "metadata": {},
   "outputs": [],
   "source": []
  },
  {
   "cell_type": "markdown",
   "metadata": {},
   "source": [
    "## Conclusion"
   ]
  }
 ],
 "metadata": {
  "kernelspec": {
   "display_name": "Python 3",
   "language": "python",
   "name": "python3"
  },
  "language_info": {
   "codemirror_mode": {
    "name": "ipython",
    "version": 3
   },
   "file_extension": ".py",
   "mimetype": "text/x-python",
   "name": "python",
   "nbconvert_exporter": "python",
   "pygments_lexer": "ipython3",
   "version": "3.7.6"
  }
 },
 "nbformat": 4,
 "nbformat_minor": 4
}
